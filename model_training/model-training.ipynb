{
 "cells": [
  {
   "cell_type": "code",
   "execution_count": 4,
   "metadata": {},
   "outputs": [
    {
     "name": "stdout",
     "output_type": "stream",
     "text": [
      "Collecting torch\n",
      "  Downloading torch-2.6.0-cp313-cp313-win_amd64.whl.metadata (28 kB)\n",
      "Collecting torchvision\n",
      "  Downloading torchvision-0.21.0-cp313-cp313-win_amd64.whl.metadata (6.3 kB)\n",
      "Collecting matplotlib\n",
      "  Downloading matplotlib-3.10.1-cp313-cp313-win_amd64.whl.metadata (11 kB)\n",
      "Collecting filelock (from torch)\n",
      "  Downloading filelock-3.18.0-py3-none-any.whl.metadata (2.9 kB)\n",
      "Collecting typing-extensions>=4.10.0 (from torch)\n",
      "  Downloading typing_extensions-4.12.2-py3-none-any.whl.metadata (3.0 kB)\n",
      "Collecting networkx (from torch)\n",
      "  Downloading networkx-3.4.2-py3-none-any.whl.metadata (6.3 kB)\n",
      "Collecting jinja2 (from torch)\n",
      "  Downloading jinja2-3.1.6-py3-none-any.whl.metadata (2.9 kB)\n",
      "Collecting fsspec (from torch)\n",
      "  Downloading fsspec-2025.3.0-py3-none-any.whl.metadata (11 kB)\n",
      "Collecting setuptools (from torch)\n",
      "  Downloading setuptools-77.0.3-py3-none-any.whl.metadata (6.6 kB)\n",
      "Collecting sympy==1.13.1 (from torch)\n",
      "  Downloading sympy-1.13.1-py3-none-any.whl.metadata (12 kB)\n",
      "Collecting mpmath<1.4,>=1.1.0 (from sympy==1.13.1->torch)\n",
      "  Downloading mpmath-1.3.0-py3-none-any.whl.metadata (8.6 kB)\n",
      "Collecting numpy (from torchvision)\n",
      "  Downloading numpy-2.2.4-cp313-cp313-win_amd64.whl.metadata (60 kB)\n",
      "Collecting pillow!=8.3.*,>=5.3.0 (from torchvision)\n",
      "  Downloading pillow-11.1.0-cp313-cp313-win_amd64.whl.metadata (9.3 kB)\n",
      "Collecting contourpy>=1.0.1 (from matplotlib)\n",
      "  Downloading contourpy-1.3.1-cp313-cp313-win_amd64.whl.metadata (5.4 kB)\n",
      "Collecting cycler>=0.10 (from matplotlib)\n",
      "  Downloading cycler-0.12.1-py3-none-any.whl.metadata (3.8 kB)\n",
      "Collecting fonttools>=4.22.0 (from matplotlib)\n",
      "  Downloading fonttools-4.56.0-cp313-cp313-win_amd64.whl.metadata (103 kB)\n",
      "Collecting kiwisolver>=1.3.1 (from matplotlib)\n",
      "  Downloading kiwisolver-1.4.8-cp313-cp313-win_amd64.whl.metadata (6.3 kB)\n",
      "Requirement already satisfied: packaging>=20.0 in c:\\users\\emile\\appdata\\roaming\\python\\python313\\site-packages (from matplotlib) (24.2)\n",
      "Collecting pyparsing>=2.3.1 (from matplotlib)\n",
      "  Downloading pyparsing-3.2.1-py3-none-any.whl.metadata (5.0 kB)\n",
      "Requirement already satisfied: python-dateutil>=2.7 in c:\\users\\emile\\appdata\\roaming\\python\\python313\\site-packages (from matplotlib) (2.9.0.post0)\n",
      "Requirement already satisfied: six>=1.5 in c:\\users\\emile\\appdata\\roaming\\python\\python313\\site-packages (from python-dateutil>=2.7->matplotlib) (1.17.0)\n",
      "Collecting MarkupSafe>=2.0 (from jinja2->torch)\n",
      "  Downloading MarkupSafe-3.0.2-cp313-cp313-win_amd64.whl.metadata (4.1 kB)\n",
      "Downloading torch-2.6.0-cp313-cp313-win_amd64.whl (204.1 MB)\n",
      "   ---------------------------------------- 0.0/204.1 MB ? eta -:--:--\n",
      "    --------------------------------------- 3.9/204.1 MB 19.9 MB/s eta 0:00:11\n",
      "   - -------------------------------------- 7.9/204.1 MB 19.7 MB/s eta 0:00:10\n",
      "   -- ------------------------------------- 11.8/204.1 MB 19.6 MB/s eta 0:00:10\n",
      "   --- ------------------------------------ 15.7/204.1 MB 19.7 MB/s eta 0:00:10\n",
      "   --- ------------------------------------ 19.9/204.1 MB 19.6 MB/s eta 0:00:10\n",
      "   ---- ----------------------------------- 24.1/204.1 MB 19.6 MB/s eta 0:00:10\n",
      "   ----- ---------------------------------- 28.3/204.1 MB 19.6 MB/s eta 0:00:09\n",
      "   ------ --------------------------------- 32.0/204.1 MB 19.6 MB/s eta 0:00:09\n",
      "   ------- -------------------------------- 36.2/204.1 MB 19.6 MB/s eta 0:00:09\n",
      "   ------- -------------------------------- 40.1/204.1 MB 19.5 MB/s eta 0:00:09\n",
      "   -------- ------------------------------- 44.0/204.1 MB 19.5 MB/s eta 0:00:09\n",
      "   --------- ------------------------------ 48.0/204.1 MB 19.5 MB/s eta 0:00:09\n",
      "   ---------- ----------------------------- 52.4/204.1 MB 19.5 MB/s eta 0:00:08\n",
      "   ----------- ---------------------------- 56.4/204.1 MB 19.5 MB/s eta 0:00:08\n",
      "   ----------- ---------------------------- 60.3/204.1 MB 19.5 MB/s eta 0:00:08\n",
      "   ------------ --------------------------- 64.5/204.1 MB 19.5 MB/s eta 0:00:08\n",
      "   ------------- -------------------------- 68.4/204.1 MB 19.5 MB/s eta 0:00:07\n",
      "   -------------- ------------------------- 72.4/204.1 MB 19.5 MB/s eta 0:00:07\n",
      "   -------------- ------------------------- 76.5/204.1 MB 19.5 MB/s eta 0:00:07\n",
      "   --------------- ------------------------ 80.7/204.1 MB 19.5 MB/s eta 0:00:07\n",
      "   ---------------- ----------------------- 84.9/204.1 MB 19.5 MB/s eta 0:00:07\n",
      "   ----------------- ---------------------- 89.1/204.1 MB 19.5 MB/s eta 0:00:06\n",
      "   ------------------ --------------------- 93.3/204.1 MB 19.5 MB/s eta 0:00:06\n",
      "   ------------------- -------------------- 97.5/204.1 MB 19.5 MB/s eta 0:00:06\n",
      "   ------------------- ------------------- 101.4/204.1 MB 19.5 MB/s eta 0:00:06\n",
      "   -------------------- ------------------ 105.4/204.1 MB 19.5 MB/s eta 0:00:06\n",
      "   -------------------- ------------------ 109.6/204.1 MB 19.5 MB/s eta 0:00:05\n",
      "   --------------------- ----------------- 113.8/204.1 MB 19.5 MB/s eta 0:00:05\n",
      "   ---------------------- ---------------- 118.0/204.1 MB 19.5 MB/s eta 0:00:05\n",
      "   ----------------------- --------------- 121.9/204.1 MB 19.5 MB/s eta 0:00:05\n",
      "   ------------------------ -------------- 126.1/204.1 MB 19.5 MB/s eta 0:00:05\n",
      "   ------------------------ -------------- 130.3/204.1 MB 19.5 MB/s eta 0:00:04\n",
      "   ------------------------- ------------- 134.2/204.1 MB 19.5 MB/s eta 0:00:04\n",
      "   -------------------------- ------------ 138.4/204.1 MB 19.5 MB/s eta 0:00:04\n",
      "   --------------------------- ----------- 142.6/204.1 MB 19.5 MB/s eta 0:00:04\n",
      "   --------------------------- ----------- 146.5/204.1 MB 19.5 MB/s eta 0:00:03\n",
      "   ---------------------------- ---------- 150.7/204.1 MB 19.5 MB/s eta 0:00:03\n",
      "   ----------------------------- --------- 155.2/204.1 MB 19.5 MB/s eta 0:00:03\n",
      "   ------------------------------ -------- 159.1/204.1 MB 19.5 MB/s eta 0:00:03\n",
      "   ------------------------------- ------- 163.3/204.1 MB 19.5 MB/s eta 0:00:03\n",
      "   ------------------------------- ------- 167.2/204.1 MB 19.5 MB/s eta 0:00:02\n",
      "   -------------------------------- ------ 171.4/204.1 MB 19.5 MB/s eta 0:00:02\n",
      "   --------------------------------- ----- 175.6/204.1 MB 19.5 MB/s eta 0:00:02\n",
      "   ---------------------------------- ---- 179.6/204.1 MB 19.5 MB/s eta 0:00:02\n",
      "   ----------------------------------- --- 183.8/204.1 MB 19.5 MB/s eta 0:00:02\n",
      "   ----------------------------------- --- 187.7/204.1 MB 19.5 MB/s eta 0:00:01\n",
      "   ------------------------------------ -- 191.6/204.1 MB 19.5 MB/s eta 0:00:01\n",
      "   ------------------------------------- - 195.8/204.1 MB 19.5 MB/s eta 0:00:01\n",
      "   --------------------------------------  200.0/204.1 MB 19.5 MB/s eta 0:00:01\n",
      "   --------------------------------------  203.9/204.1 MB 19.5 MB/s eta 0:00:01\n",
      "   --------------------------------------  203.9/204.1 MB 19.5 MB/s eta 0:00:01\n",
      "   --------------------------------------  203.9/204.1 MB 19.5 MB/s eta 0:00:01\n",
      "   --------------------------------------- 204.1/204.1 MB 18.7 MB/s eta 0:00:00\n",
      "Downloading sympy-1.13.1-py3-none-any.whl (6.2 MB)\n",
      "   ---------------------------------------- 0.0/6.2 MB ? eta -:--:--\n",
      "   ------------------------- -------------- 3.9/6.2 MB 19.8 MB/s eta 0:00:01\n",
      "   ---------------------------------------- 6.2/6.2 MB 18.5 MB/s eta 0:00:00\n",
      "Downloading torchvision-0.21.0-cp313-cp313-win_amd64.whl (1.6 MB)\n",
      "   ---------------------------------------- 0.0/1.6 MB ? eta -:--:--\n",
      "   ---------------------------------------- 1.6/1.6 MB 15.9 MB/s eta 0:00:00\n",
      "Downloading matplotlib-3.10.1-cp313-cp313-win_amd64.whl (8.1 MB)\n",
      "   ---------------------------------------- 0.0/8.1 MB ? eta -:--:--\n",
      "   ------------------- -------------------- 3.9/8.1 MB 19.7 MB/s eta 0:00:01\n",
      "   ---------------------------------------  7.9/8.1 MB 19.5 MB/s eta 0:00:01\n",
      "   ---------------------------------------- 8.1/8.1 MB 18.2 MB/s eta 0:00:00\n",
      "Downloading contourpy-1.3.1-cp313-cp313-win_amd64.whl (220 kB)\n",
      "Downloading cycler-0.12.1-py3-none-any.whl (8.3 kB)\n",
      "Downloading fonttools-4.56.0-cp313-cp313-win_amd64.whl (2.2 MB)\n",
      "   ---------------------------------------- 0.0/2.2 MB ? eta -:--:--\n",
      "   ---------------------------------------- 2.2/2.2 MB 16.5 MB/s eta 0:00:00\n",
      "Downloading kiwisolver-1.4.8-cp313-cp313-win_amd64.whl (71 kB)\n",
      "Downloading numpy-2.2.4-cp313-cp313-win_amd64.whl (12.6 MB)\n",
      "   ---------------------------------------- 0.0/12.6 MB ? eta -:--:--\n",
      "   ------------ --------------------------- 3.9/12.6 MB 19.6 MB/s eta 0:00:01\n",
      "   ------------------------- -------------- 8.1/12.6 MB 19.5 MB/s eta 0:00:01\n",
      "   -------------------------------------- - 12.1/12.6 MB 19.4 MB/s eta 0:00:01\n",
      "   ---------------------------------------- 12.6/12.6 MB 18.2 MB/s eta 0:00:00\n",
      "Downloading pillow-11.1.0-cp313-cp313-win_amd64.whl (2.6 MB)\n",
      "   ---------------------------------------- 0.0/2.6 MB ? eta -:--:--\n",
      "   ---------------------------------------- 2.6/2.6 MB 17.2 MB/s eta 0:00:00\n",
      "Downloading pyparsing-3.2.1-py3-none-any.whl (107 kB)\n",
      "Downloading typing_extensions-4.12.2-py3-none-any.whl (37 kB)\n",
      "Downloading filelock-3.18.0-py3-none-any.whl (16 kB)\n",
      "Downloading fsspec-2025.3.0-py3-none-any.whl (193 kB)\n",
      "Downloading jinja2-3.1.6-py3-none-any.whl (134 kB)\n",
      "Downloading networkx-3.4.2-py3-none-any.whl (1.7 MB)\n",
      "   ---------------------------------------- 0.0/1.7 MB ? eta -:--:--\n",
      "   ---------------------------------------- 1.7/1.7 MB 16.3 MB/s eta 0:00:00\n",
      "Downloading setuptools-77.0.3-py3-none-any.whl (1.3 MB)\n",
      "   ---------------------------------------- 0.0/1.3 MB ? eta -:--:--\n",
      "   ---------------------------------------- 1.3/1.3 MB 15.0 MB/s eta 0:00:00\n",
      "Downloading MarkupSafe-3.0.2-cp313-cp313-win_amd64.whl (15 kB)\n",
      "Downloading mpmath-1.3.0-py3-none-any.whl (536 kB)\n",
      "   ---------------------------------------- 0.0/536.2 kB ? eta -:--:--\n",
      "   --------------------------------------- 536.2/536.2 kB 12.2 MB/s eta 0:00:00\n",
      "Installing collected packages: mpmath, typing-extensions, sympy, setuptools, pyparsing, pillow, numpy, networkx, MarkupSafe, kiwisolver, fsspec, fonttools, filelock, cycler, jinja2, contourpy, torch, matplotlib, torchvision\n",
      "Successfully installed MarkupSafe-3.0.2 contourpy-1.3.1 cycler-0.12.1 filelock-3.18.0 fonttools-4.56.0 fsspec-2025.3.0 jinja2-3.1.6 kiwisolver-1.4.8 matplotlib-3.10.1 mpmath-1.3.0 networkx-3.4.2 numpy-2.2.4 pillow-11.1.0 pyparsing-3.2.1 setuptools-77.0.3 sympy-1.13.1 torch-2.6.0 torchvision-0.21.0 typing-extensions-4.12.2\n",
      "Note: you may need to restart the kernel to use updated packages.\n"
     ]
    },
    {
     "name": "stderr",
     "output_type": "stream",
     "text": [
      "  WARNING: The script isympy.exe is installed in 'c:\\Users\\emile\\AppData\\Local\\Programs\\Python\\Python313\\Scripts' which is not on PATH.\n",
      "  Consider adding this directory to PATH or, if you prefer to suppress this warning, use --no-warn-script-location.\n",
      "  WARNING: The scripts f2py.exe and numpy-config.exe are installed in 'c:\\Users\\emile\\AppData\\Local\\Programs\\Python\\Python313\\Scripts' which is not on PATH.\n",
      "  Consider adding this directory to PATH or, if you prefer to suppress this warning, use --no-warn-script-location.\n",
      "  WARNING: The scripts fonttools.exe, pyftmerge.exe, pyftsubset.exe and ttx.exe are installed in 'c:\\Users\\emile\\AppData\\Local\\Programs\\Python\\Python313\\Scripts' which is not on PATH.\n",
      "  Consider adding this directory to PATH or, if you prefer to suppress this warning, use --no-warn-script-location.\n",
      "  WARNING: The scripts torchfrtrace.exe and torchrun.exe are installed in 'c:\\Users\\emile\\AppData\\Local\\Programs\\Python\\Python313\\Scripts' which is not on PATH.\n",
      "  Consider adding this directory to PATH or, if you prefer to suppress this warning, use --no-warn-script-location.\n",
      "\n",
      "[notice] A new release of pip is available: 24.3.1 -> 25.0.1\n",
      "[notice] To update, run: python.exe -m pip install --upgrade pip\n"
     ]
    }
   ],
   "source": [
    "%pip install torch torchvision matplotlib"
   ]
  },
  {
   "cell_type": "code",
   "execution_count": 1,
   "metadata": {},
   "outputs": [
    {
     "data": {
      "image/png": "[encoded data removed]",
      "text/plain": [
       "<Figure size 1000x200 with 6 Axes>"
      ]
     },
     "metadata": {},
     "output_type": "display_data"
    }
   ],
   "source": [
    "import torch\n",
    "import torchvision\n",
    "import torchvision.transforms as transforms\n",
    "import matplotlib.pyplot as plt\n",
    "\n",
    "# Define transformation: Convert to tensor & normalize (0 mean, 1 std)\n",
    "transform = transforms.Compose([\n",
    "    transforms.ToTensor(),\n",
    "    transforms.Normalize((0.5,), (0.5,))\n",
    "])\n",
    "\n",
    "# Download and load MNIST dataset\n",
    "trainset = torchvision.datasets.MNIST(root='./data', train=True, download=True, transform=transform)\n",
    "trainloader = torch.utils.data.DataLoader(trainset, batch_size=64, shuffle=True)\n",
    "\n",
    "testset = torchvision.datasets.MNIST(root='./data', train=False, download=True, transform=transform)\n",
    "testloader = torch.utils.data.DataLoader(testset, batch_size=64, shuffle=False)\n",
    "\n",
    "# Display some sample images\n",
    "examples = iter(trainloader)\n",
    "example_data, example_targets = next(examples)\n",
    "\n",
    "fig, axes = plt.subplots(1, 6, figsize=(10, 2))\n",
    "for i in range(6):\n",
    "    axes[i].imshow(example_data[i].squeeze(), cmap=\"gray\")\n",
    "    axes[i].axis('off')\n",
    "plt.show()\n"
   ]
  },
  {
   "cell_type": "code",
   "execution_count": null,
   "metadata": {},
   "outputs": [],
   "source": [
    "\"\"\"\n",
    "image, label = testset[0]  # You can change the index to get other images\n",
    "\n",
    "# Convert the tensor image back to a PIL image\n",
    "image = transforms.ToPILImage()(image)\n",
    "\n",
    "# Save the image to a file\n",
    "image.save('test_image.png')\"\n",
    "\n",
    "\"\"\""
   ]
  },
  {
   "cell_type": "code",
   "execution_count": 2,
   "metadata": {},
   "outputs": [
    {
     "name": "stdout",
     "output_type": "stream",
     "text": [
      "torch.Size([1, 28, 28])\n",
      "10000\n"
     ]
    }
   ],
   "source": [
    "print(testset[0][0].size())\n",
    "print(len(testset))"
   ]
  },
  {
   "cell_type": "code",
   "execution_count": 4,
   "metadata": {},
   "outputs": [],
   "source": [
    "import torch.nn as nn\n",
    "import torch.nn.functional as F\n",
    "\n",
    "# Here we define the neural network\n",
    "class MNISTClassifier(nn.Module):\n",
    "    def __init__(self):\n",
    "        super(MNISTClassifier, self).__init__()\n",
    "        self.fc1 = nn.Linear(28*28, 128)  # Input layer (784 -> 128)\n",
    "        self.fc2 = nn.Linear(128, 64)     # Hidden layer (128 -> 64)\n",
    "        self.fc3 = nn.Linear(64, 10)      # Output layer (64 -> 10)\n",
    "\n",
    "    def forward(self, x):\n",
    "        x = x.view(-1, 28*28)  # Flatten images\n",
    "        x = F.relu(self.fc1(x))  \n",
    "        x = F.relu(self.fc2(x))\n",
    "        x = self.fc3(x)  # No activation (logits)\n",
    "        \n",
    "        return x\n",
    "\n",
    "# Initialize model\n",
    "model = MNISTClassifier()\n"
   ]
  },
  {
   "cell_type": "code",
   "execution_count": 5,
   "metadata": {},
   "outputs": [],
   "source": [
    "import torch.optim as optim\n",
    "\n",
    "criterion = nn.CrossEntropyLoss()  # Classification loss\n",
    "optimizer = optim.Adam(model.parameters(), lr=0.001)  # Adam optimizer\n"
   ]
  },
  {
   "cell_type": "code",
   "execution_count": 6,
   "metadata": {},
   "outputs": [
    {
     "name": "stdout",
     "output_type": "stream",
     "text": [
      "Epoch 1, Loss: 0.3975\n",
      "Epoch 2, Loss: 0.1895\n",
      "Epoch 3, Loss: 0.1375\n",
      "Epoch 4, Loss: 0.1089\n",
      "Epoch 5, Loss: 0.0957\n",
      "Epoch 6, Loss: 0.0845\n",
      "Epoch 7, Loss: 0.0718\n",
      "Training complete!\n"
     ]
    }
   ],
   "source": [
    "epochs = 7  # Number of passes through dataset\n",
    "\n",
    "for epoch in range(epochs):\n",
    "    running_loss = 0.0 # gives the total loss of all images per EPOCH\n",
    "\n",
    "    for images, labels in trainloader: # Each iteration is a BATCH\n",
    "        optimizer.zero_grad()  # Reset gradients\n",
    "\n",
    "        outputs = model(images)  # Forward pass - make predictions\n",
    "        loss = criterion(outputs, labels)  # Compute loss - calculate errors between predictions (outputs) and actuals (labels)\n",
    "        loss.backward()  # Backpropagation\n",
    "        optimizer.step()  # Update weights\n",
    "\n",
    "        running_loss += loss.item()\n",
    "\n",
    "    # calculate the average loss for the EPOCH, by taking the total epoch loss and divide by the # of batches in the epoch\n",
    "    print(f\"Epoch {epoch+1}, Loss: {running_loss/len(trainloader):.4f}\")\n",
    "\n",
    "print(\"Training complete!\")\n"
   ]
  },
  {
   "cell_type": "code",
   "execution_count": 7,
   "metadata": {},
   "outputs": [
    {
     "name": "stdout",
     "output_type": "stream",
     "text": [
      "Test Accuracy: 97.45%\n"
     ]
    }
   ],
   "source": [
    "correct = 0\n",
    "total = 0\n",
    "\n",
    "with torch.no_grad():  # No gradients needed for testing\n",
    "    for images, labels in testloader:\n",
    "        outputs = model(images)\n",
    "        _, predicted = torch.max(outputs, 1)  # Get class with highest probability\n",
    "        total += labels.size(0)\n",
    "        correct += (predicted == labels).sum().item() # count the total number of correct predictions\n",
    "\n",
    "accuracy = 100 * correct / total\n",
    "print(f\"Test Accuracy: {accuracy:.2f}%\")\n"
   ]
  },
  {
   "cell_type": "code",
   "execution_count": 8,
   "metadata": {},
   "outputs": [],
   "source": [
    "torch.save(model.state_dict(), 'model.pth') # save model as model.pth"
   ]
  }
 ],
 "metadata": {
  "kernelspec": {
   "display_name": "Python 3",
   "language": "python",
   "name": "python3"
  },
  "language_info": {
   "codemirror_mode": {
    "name": "ipython",
    "version": 3
   },
   "file_extension": ".py",
   "mimetype": "text/x-python",
   "name": "python",
   "nbconvert_exporter": "python",
   "pygments_lexer": "ipython3",
   "version": "3.13.1"
  }
 },
 "nbformat": 4,
 "nbformat_minor": 2
}
